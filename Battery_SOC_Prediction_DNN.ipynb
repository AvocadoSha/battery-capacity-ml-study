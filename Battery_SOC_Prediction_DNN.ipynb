{
 "cells": [
  {
   "cell_type": "markdown",
   "id": "52790acc",
   "metadata": {},
   "source": [
    "# Battery Capacity Prediction with DNN\n",
    "This notebook trains a deep neural network using TensorFlow to predict the State of Charge (SOC) of a battery under different temperature conditions."
   ]
  },
  {
   "cell_type": "code",
   "execution_count": null,
   "id": "a8939ccf",
   "metadata": {},
   "outputs": [],
   "source": [
    "!pip install tensorflow numpy pandas scipy matplotlib"
   ]
  },
  {
   "cell_type": "code",
   "execution_count": null,
   "id": "f5091b0c",
   "metadata": {},
   "outputs": [],
   "source": [
    "import numpy as np\n",
    "import pandas as pd\n",
    "import scipy.io\n",
    "import tensorflow as tf\n",
    "from tensorflow.keras.models import Sequential\n",
    "from tensorflow.keras.layers import Dense, LeakyReLU, InputLayer, Activation\n",
    "from tensorflow.keras.optimizers import Adam\n",
    "from tensorflow.keras.callbacks import LearningRateScheduler\n",
    "import matplotlib.pyplot as plt\n",
    "from sklearn.metrics import mean_squared_error\n",
    "from google.colab import drive"
   ]
  },
  {
   "cell_type": "code",
   "execution_count": null,
   "id": "12c9b672",
   "metadata": {},
   "outputs": [],
   "source": [
    "drive.mount('/content/drive')"
   ]
  },
  {
   "cell_type": "code",
   "execution_count": null,
   "id": "75d2ac7f",
   "metadata": {},
   "outputs": [],
   "source": [
    "# Load training MAT file\n",
    "mat_data = scipy.io.loadmat('/content/drive/My Drive/CHEMINFOFINAL/train.mat')\n",
    "print('Keys in MAT file:', mat_data.keys())\n",
    "X_data = mat_data['X'].T\n",
    "Y_data = mat_data['Y'].T.flatten()"
   ]
  },
  {
   "cell_type": "code",
   "execution_count": null,
   "id": "e0664d2f",
   "metadata": {},
   "outputs": [],
   "source": [
    "# Convert to DataFrame and normalize features\n",
    "df = pd.DataFrame(np.hstack((X_data, Y_data.reshape(-1, 1))))\n",
    "features = df.iloc[:, :-1].values\n",
    "targets = df.iloc[:, -1].values\n",
    "mean = features.mean(axis=0)\n",
    "std = features.std(axis=0)\n",
    "features = (features - mean) / std\n",
    "val_split = int(0.8 * len(features))\n",
    "train_features, train_targets = features[:val_split], targets[:val_split]\n",
    "val_features, val_targets = features[val_split:], targets[val_split:]"
   ]
  },
  {
   "cell_type": "code",
   "execution_count": null,
   "id": "3d226f6a",
   "metadata": {},
   "outputs": [],
   "source": [
    "# Define DNN model\n",
    "model = Sequential([\n",
    "    InputLayer(input_shape=(train_features.shape[1],)),\n",
    "    Dense(55),\n",
    "    Activation('tanh'),\n",
    "    Dense(55),\n",
    "    LeakyReLU(alpha=0.3),\n",
    "    Dense(1),\n",
    "    Activation('relu')\n",
    "])\n",
    "\n",
    "def scheduler(epoch, lr):\n",
    "    if epoch in [400, 800]:\n",
    "        return lr * 0.1\n",
    "    return lr\n",
    "lr_scheduler = LearningRateScheduler(scheduler)\n",
    "\n",
    "model.compile(optimizer=Adam(learning_rate=0.01), loss='mse', metrics=['mse'])"
   ]
  },
  {
   "cell_type": "code",
   "execution_count": null,
   "id": "90999b45",
   "metadata": {},
   "outputs": [],
   "source": [
    "history = model.fit(\n",
    "    train_features, train_targets,\n",
    "    epochs=1200,\n",
    "    batch_size=1,\n",
    "    validation_data=(val_features, val_targets),\n",
    "    callbacks=[lr_scheduler],\n",
    "    verbose=1\n",
    ")"
   ]
  },
  {
   "cell_type": "code",
   "execution_count": null,
   "id": "5d7086d4",
   "metadata": {},
   "outputs": [],
   "source": [
    "plt.figure(figsize=(8, 5))\n",
    "plt.plot(history.history['loss'], label='Training Loss')\n",
    "plt.plot(history.history['val_loss'], label='Validation Loss', linestyle='dashed')\n",
    "plt.xlabel('Epochs')\n",
    "plt.ylabel('Loss (MSE)')\n",
    "plt.title('Training Progress')\n",
    "plt.legend()\n",
    "plt.show()"
   ]
  },
  {
   "cell_type": "code",
   "execution_count": null,
   "id": "9693424c",
   "metadata": {},
   "outputs": [],
   "source": [
    "# Test data\n",
    "test_files = {\n",
    "    'n10degC': '/content/drive/My Drive/CHEMINFOFINAL/01_TEST_LGHG2@n10degC_Norm_(05_Inputs).mat',\n",
    "    '0degC': '/content/drive/My Drive/CHEMINFOFINAL/02_TEST_LGHG2@0degC_Norm_(05_Inputs).mat',\n",
    "    '10degC': '/content/drive/My Drive/CHEMINFOFINAL/03_TEST_LGHG2@10degC_Norm_(05_Inputs).mat',\n",
    "    '25degC': '/content/drive/My Drive/CHEMINFOFINAL/04_TEST_LGHG2@25degC_Norm_(05_Inputs).mat'\n",
    "}\n",
    "predictions = {}\n",
    "targets = {}\n",
    "for temp, file in test_files.items():\n",
    "    mat_data = scipy.io.loadmat(file)\n",
    "    X_test = mat_data['X'].T\n",
    "    Y_test = mat_data['Y'].T.flatten()\n",
    "    Y_pred = model.predict(X_test, batch_size=1)\n",
    "    predictions[temp] = Y_pred.flatten()\n",
    "    targets[temp] = Y_test"
   ]
  },
  {
   "cell_type": "code",
   "execution_count": null,
   "id": "817ebd95",
   "metadata": {},
   "outputs": [],
   "source": [
    "fig, axes = plt.subplots(2, 2, figsize=(12, 10))\n",
    "temps = ['n10degC', '0degC', '10degC', '25degC']\n",
    "for i, ax in enumerate(axes.flat):\n",
    "    temp = temps[i]\n",
    "    ax.plot(predictions[temp], label='Predicted', color='blue')\n",
    "    ax.plot(targets[temp], label='Target', color='orange')\n",
    "    ax.set_xlabel('Time (s)')\n",
    "    ax.set_ylabel('SOC')\n",
    "    ax.set_title(temp)\n",
    "    ax.legend()\n",
    "plt.tight_layout()\n",
    "plt.show()"
   ]
  },
  {
   "cell_type": "code",
   "execution_count": null,
   "id": "06c96ded",
   "metadata": {},
   "outputs": [],
   "source": [
    "rmse_values = []\n",
    "max_errors = []\n",
    "for temp in temps:\n",
    "    rmse = np.sqrt(mean_squared_error(targets[temp], predictions[temp])) * 100\n",
    "    max_error = np.max(np.abs(targets[temp] - predictions[temp])) * 100\n",
    "    rmse_values.append(rmse)\n",
    "    max_errors.append(max_error)\n",
    "fig, axes = plt.subplots(2, 1, figsize=(10, 8))\n",
    "axes[0].bar(temps, rmse_values, color='blue')\n",
    "axes[0].set_ylabel('RMSE (%)')\n",
    "axes[0].set_xlabel('Temperature (C)')\n",
    "axes[1].bar(temps, max_errors, color='red')\n",
    "axes[1].set_ylabel('MAX (%)')\n",
    "axes[1].set_xlabel('Temperature (C)')\n",
    "plt.tight_layout()\n",
    "plt.show()"
   ]
  }
 ],
 "metadata": {},
 "nbformat": 4,
 "nbformat_minor": 5
}